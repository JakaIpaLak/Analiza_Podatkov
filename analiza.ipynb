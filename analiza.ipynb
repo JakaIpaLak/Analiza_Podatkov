{
 "cells": [
  {
   "cell_type": "code",
   "execution_count": null,
   "metadata": {},
   "outputs": [],
   "source": [
    "import pandas as pd\n",
    "import plotly.express as px\n",
    "from plotly.subplots import make_subplots\n",
    "import plotly.graph_objects as go\n",
    "\n",
    "pd.options.display.max_rows = 100\n",
    "\n",
    "cv=pd.read_csv(\"idk.csv\", encoding_errors=\"replace\")\n",
    "\n",
    "cv=cv.str.replace(\" \", \"\").replace(\"?\", \"NaN\").astype(float)\n",
    "#cv[\"Number_built\"] = cv[\"Number_built\"].str.replace(\" \", \"\").astype(float)\n",
    "#cv[\"First_flight\"]=cv[\"First_flight\"].astype(\"str\").str.replace(\"?\", \"NaN\").astype(float)"
   ]
  },
  {
   "cell_type": "code",
   "execution_count": null,
   "metadata": {},
   "outputs": [],
   "source": [
    "cv.sort_values(by=[\"Number_built\"], ascending=False).head(50)"
   ]
  },
  {
   "cell_type": "code",
   "execution_count": null,
   "metadata": {},
   "outputs": [],
   "source": [
    "\n",
    "\n",
    "wmap_frame=pd.DataFrame(cv[[\"Country\"]].value_counts().reset_index())\n",
    "wmap = px.choropleth(wmap_frame, locations=\"Country\", locationmode=\"country names\", color=\"count\", color_continuous_scale=\"ylorbr\", range_color=[0, 500], scope=\"world\")\n",
    "wmap.update_layout(coloraxis_colorbar=dict(title=\"No. of models\", tickvals=[0, 100, 200, 300, 400, 500], ticktext=[\"0\", \"100\", \"200\", \"300\", \"400\", \">500\"]))\n",
    " \n",
    "wmap.show()\n"
   ]
  },
  {
   "cell_type": "code",
   "execution_count": null,
   "metadata": {},
   "outputs": [],
   "source": [
    "cv.groupby('Manufacturer')['Number_built'].sum().sort_values(ascending=False)"
   ]
  },
  {
   "cell_type": "code",
   "execution_count": null,
   "metadata": {},
   "outputs": [],
   "source": [
    "\n",
    "nmap_frame=pd.DataFrame(cv.groupby(\"Country\")['Number_built'].sum().sort_values(ascending=False).reset_index())\n",
    "\n",
    "nmap = px.choropleth(nmap_frame, locations=\"Country\", locationmode=\"country names\", color=\"Number_built\", color_continuous_scale=\"ylorbr\", range_color=[0, 50000], scope=\"world\")\n",
    "#nmap.update_layout(coloraxis_colorbar=dict(title=\"No. of models\", tickvals=[0, 100, 200, 300, 400, 500], ticktext=[\"0\", \"100\", \"200\", \"300\", \"400\", \">500\"]))\n",
    " \n",
    "nmap.show()\n"
   ]
  },
  {
   "cell_type": "code",
   "execution_count": null,
   "metadata": {},
   "outputs": [],
   "source": [
    "year_frame=cv[[\"First_flight\", \"Manufacturer\"]].copy()\n",
    "year_frame[\"First_flight\"] = (year_frame[\"First_flight\"].str.replace(\"?\", \"NaN\").astype(float) // 10 * 10).astype(\"Int64\")\n",
    "year_frame.groupby('First_flight')['Manufacturer'].size().sort_index(ascending=True)\n",
    "\n",
    "#y_map=px.bar(year_frame.groupby('First_flight')['Manufacturer'].size())\n",
    "#y_map.update_layout(xaxis=dict(tickvals=[n for n in range(1900, 2020, 10)]))\n",
    "#y_map.show()"
   ]
  },
  {
   "cell_type": "code",
   "execution_count": null,
   "metadata": {},
   "outputs": [],
   "source": [
    "r_frame=pd.DataFrame({\"First_flight\" : (cv[\"First_flight\"].str.replace(\"?\", \"NaN\").astype(float) // 10 * 10).astype(\"Int64\"), \"Country\" : cv[\"Country\"]})\n",
    "\n",
    "new_frame=pd.DataFrame(r_frame.groupby(\"First_flight\").value_counts()).reset_index()\n",
    "new_frame=new_frame.pivot(index=\"Country\", columns=\"First_flight\", values=\"count\").drop(\"_unknown_\", axis=0)\n",
    "\n",
    "r_frame=r_frame.groupby('First_flight')['Country'].size().sort_index(ascending=True).astype(float).reset_index()\n",
    "\n",
    "\n",
    "for co in new_frame.columns:\n",
    "    new_frame[co] = new_frame.where(new_frame.eq(new_frame.sort_values(by=co, ascending=False).head(5)))[co]\n",
    "\n",
    "new_frame=new_frame.transpose().dropna(axis=1, how=\"all\")\n",
    "new_frame[\"Other\"] = r_frame[\"Country\"].values - new_frame.sum(axis=1, numeric_only=True).values\n",
    "\n",
    "\n",
    "px.bar(new_frame, x=new_frame.index, y=new_frame.columns)\n"
   ]
  },
  {
   "cell_type": "code",
   "execution_count": null,
   "metadata": {},
   "outputs": [],
   "source": [
    "role_frame=pd.DataFrame({\"1900\" : cv.query(\"First_flight >= 1900  and First_flight <= 1990\").value_counts(\"Role\") , \"1991\" : cv.query(\"First_flight >= 1991 \").value_counts(\"Role\")})\n",
    "role_frame.head(20)\n",
    "\n",
    "pie=make_subplots(rows=1, cols=2, specs=[[{'type':'domain'}, {'type':'domain'}]], subplot_titles=[\"1900 - 1990\", \"1991-2019\"])\n",
    "pie.add_trace(go.Pie(labels=role_frame.index, values=role_frame[\"1900\"]), 1, 1)\n",
    "pie.add_trace(go.Pie(labels=role_frame.index, values=role_frame[\"1991\"]), 1, 2)\n",
    "pie.show()\n",
    "\n",
    "role_frame[\"p1900\"] = role_frame[\"1900\"] / role_frame[\"1900\"].sum() * 100\n",
    "role_frame[\"p1991\"] = role_frame[\"1991\"] / role_frame[\"1991\"].sum() * 100\n",
    "role_frame[\"Change\"] = ((role_frame[\"p1991\"] - role_frame[\"p1900\"]) / role_frame[\"p1900\"]).round(2).fillna(-1)\n",
    "\n",
    "px.bar(role_frame[\"Change\"])\n"
   ]
  }
 ],
 "metadata": {
  "kernelspec": {
   "display_name": "Python 3",
   "language": "python",
   "name": "python3"
  },
  "language_info": {
   "codemirror_mode": {
    "name": "ipython",
    "version": 3
   },
   "file_extension": ".py",
   "mimetype": "text/x-python",
   "name": "python",
   "nbconvert_exporter": "python",
   "pygments_lexer": "ipython3",
   "version": "3.11.1"
  },
  "orig_nbformat": 4
 },
 "nbformat": 4,
 "nbformat_minor": 2
}
